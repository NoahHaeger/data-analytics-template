{
 "cells": [
  {
   "cell_type": "code",
   "execution_count": 7,
   "id": "9b092730-ef12-456c-a4eb-5bfe26797f43",
   "metadata": {},
   "outputs": [],
   "source": [
    "# project name"
   ]
  },
  {
   "cell_type": "markdown",
   "id": "ac603813-a034-462d-a55b-3bf4a46424bc",
   "metadata": {},
   "source": [
    "**Author:**Noah Haeger\n",
    "**Last Modified** 11-13-2024 {Created: 11-13-2024}\n",
    "\n",
    "\n",
    "**Description:** Short paragraph explaining this project."
   ]
  },
  {
   "cell_type": "markdown",
   "id": "e8480afa-d68b-46b5-9798-e7098e8007e9",
   "metadata": {},
   "source": [
    "<br>"
   ]
  },
  {
   "cell_type": "markdown",
   "id": "7a589a04-a8fe-4d65-bfdb-0068d53d4567",
   "metadata": {},
   "source": [
    "Import Libraries:"
   ]
  },
  {
   "cell_type": "code",
   "execution_count": 8,
   "id": "53be4195-120b-457a-8c5c-efdbf4590ef3",
   "metadata": {},
   "outputs": [],
   "source": [
    "import pandas as pd"
   ]
  },
  {
   "cell_type": "raw",
   "id": "f68fabed-3de7-491f-b4d5-fdb4a1ea8bf3",
   "metadata": {},
   "source": [
    "Load data:"
   ]
  },
  {
   "cell_type": "code",
   "execution_count": 9,
   "id": "16a58c31-57df-4b51-8d61-5fe914343cf8",
   "metadata": {},
   "outputs": [],
   "source": [
    "#code to read csv file"
   ]
  }
 ],
 "metadata": {
  "kernelspec": {
   "display_name": "Python 3 (ipykernel)",
   "language": "python",
   "name": "python3"
  },
  "language_info": {
   "codemirror_mode": {
    "name": "ipython",
    "version": 3
   },
   "file_extension": ".py",
   "mimetype": "text/x-python",
   "name": "python",
   "nbconvert_exporter": "python",
   "pygments_lexer": "ipython3",
   "version": "3.12.4"
  }
 },
 "nbformat": 4,
 "nbformat_minor": 5
}
